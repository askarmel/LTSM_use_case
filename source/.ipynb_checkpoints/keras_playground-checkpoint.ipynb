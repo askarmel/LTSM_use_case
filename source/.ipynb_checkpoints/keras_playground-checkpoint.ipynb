{
 "cells": [
  {
   "cell_type": "markdown",
   "metadata": {
    "pycharm": {
     "is_executing": false,
     "name": "#%%\n"
    }
   },
   "source": [
    "# Playground notebook on using keras for time series\n"
   ]
  },
  {
   "cell_type": "code",
   "execution_count": 4,
   "metadata": {
    "pycharm": {
     "is_executing": false
    }
   },
   "outputs": [],
   "source": [
    "import keras\n",
    "import matplotlib.pyplot as plt\n",
    "import pandas as pd\n",
    "import numpy as np"
   ]
  },
  {
   "cell_type": "code",
   "execution_count": 6,
   "metadata": {},
   "outputs": [],
   "source": [
    "m = 2\n",
    "b = 3\n",
    "x = np.linspace(0,50,100)"
   ]
  },
  {
   "cell_type": "code",
   "execution_count": 7,
   "metadata": {},
   "outputs": [],
   "source": [
    "np.random.seed(101)\n",
    "noise = np.random.normal(loc=0,scale=4,size=len(x))"
   ]
  },
  {
   "cell_type": "markdown",
   "metadata": {},
   "source": [
    "## y = mx + b + noise"
   ]
  },
  {
   "cell_type": "code",
   "execution_count": 8,
   "metadata": {},
   "outputs": [],
   "source": [
    "y = m*x + b + noise"
   ]
  },
  {
   "cell_type": "code",
   "execution_count": 9,
   "metadata": {},
   "outputs": [
    {
     "data": {
      "text/plain": [
       "[<matplotlib.lines.Line2D at 0x13cf12978>]"
      ]
     },
     "execution_count": 9,
     "metadata": {},
     "output_type": "execute_result"
    },
    {
     "data": {
      "image/png": "[encoded data removed]",
      "text/plain": [
       "<Figure size 432x288 with 1 Axes>"
      ]
     },
     "metadata": {
      "needs_background": "light"
     },
     "output_type": "display_data"
    }
   ],
   "source": [
    "plt.plot(x,y,'*')"
   ]
  },
  {
   "cell_type": "markdown",
   "metadata": {},
   "source": [
    "## objective - create a model that perform a regression"
   ]
  },
  {
   "cell_type": "code",
   "execution_count": 10,
   "metadata": {},
   "outputs": [],
   "source": [
    "from keras.models import Sequential"
   ]
  },
  {
   "cell_type": "code",
   "execution_count": 11,
   "metadata": {},
   "outputs": [],
   "source": [
    "from keras.layers import Dense"
   ]
  },
  {
   "cell_type": "code",
   "execution_count": 12,
   "metadata": {},
   "outputs": [],
   "source": [
    "model = Sequential()\n",
    "\n",
    "# adding layers of neurons (dense)\n",
    "model.add(Dense(4,input_dim=1,activation='relu'))\n",
    "model.add(Dense(4,activation='relu'))\n",
    "model.add(Dense(1,activation='linear'))\n",
    "\n",
    "model.compile(loss='mse',optimizer='adam')"
   ]
  },
  {
   "cell_type": "code",
   "execution_count": 13,
   "metadata": {},
   "outputs": [
    {
     "name": "stdout",
     "output_type": "stream",
     "text": [
      "Model: \"sequential_1\"\n",
      "_________________________________________________________________\n",
      "Layer (type)                 Output Shape              Param #   \n",
      "=================================================================\n",
      "dense_1 (Dense)              (None, 4)                 8         \n",
      "_________________________________________________________________\n",
      "dense_2 (Dense)              (None, 4)                 20        \n",
      "_________________________________________________________________\n",
      "dense_3 (Dense)              (None, 1)                 5         \n",
      "=================================================================\n",
      "Total params: 33\n",
      "Trainable params: 33\n",
      "Non-trainable params: 0\n",
      "_________________________________________________________________\n"
     ]
    }
   ],
   "source": [
    "model.summary()"
   ]
  },
  {
   "cell_type": "code",
   "execution_count": 14,
   "metadata": {},
   "outputs": [
    {
     "name": "stdout",
     "output_type": "stream",
     "text": [
      "Epoch 1/200\n",
      "100/100 [==============================] - 0s 3ms/step - loss: 3628.6189\n",
      "Epoch 2/200\n",
      "100/100 [==============================] - 0s 70us/step - loss: 3621.3017\n",
      "Epoch 3/200\n",
      "100/100 [==============================] - 0s 81us/step - loss: 3613.3127\n",
      "Epoch 4/200\n",
      "100/100 [==============================] - 0s 90us/step - loss: 3605.1696\n",
      "Epoch 5/200\n",
      "100/100 [==============================] - 0s 72us/step - loss: 3597.2314\n",
      "Epoch 6/200\n",
      "100/100 [==============================] - 0s 94us/step - loss: 3588.3252\n",
      "Epoch 7/200\n",
      "100/100 [==============================] - 0s 89us/step - loss: 3579.4410\n",
      "Epoch 8/200\n",
      "100/100 [==============================] - 0s 117us/step - loss: 3570.6220\n",
      "Epoch 9/200\n",
      "100/100 [==============================] - 0s 101us/step - loss: 3561.4552\n",
      "Epoch 10/200\n",
      "100/100 [==============================] - 0s 126us/step - loss: 3551.7839\n",
      "Epoch 11/200\n",
      "100/100 [==============================] - 0s 100us/step - loss: 3542.2298\n",
      "Epoch 12/200\n",
      "100/100 [==============================] - 0s 150us/step - loss: 3531.6122\n",
      "Epoch 13/200\n",
      "100/100 [==============================] - 0s 107us/step - loss: 3520.9751\n",
      "Epoch 14/200\n",
      "100/100 [==============================] - 0s 132us/step - loss: 3510.8943\n",
      "Epoch 15/200\n",
      "100/100 [==============================] - 0s 117us/step - loss: 3500.3684\n",
      "Epoch 16/200\n",
      "100/100 [==============================] - 0s 133us/step - loss: 3488.8423\n",
      "Epoch 17/200\n",
      "100/100 [==============================] - 0s 145us/step - loss: 3477.7761\n",
      "Epoch 18/200\n",
      "100/100 [==============================] - 0s 109us/step - loss: 3466.1058\n",
      "Epoch 19/200\n",
      "100/100 [==============================] - 0s 106us/step - loss: 3453.5246\n",
      "Epoch 20/200\n",
      "100/100 [==============================] - 0s 100us/step - loss: 3440.3993\n",
      "Epoch 21/200\n",
      "100/100 [==============================] - 0s 424us/step - loss: 3428.0807\n",
      "Epoch 22/200\n",
      "100/100 [==============================] - 0s 164us/step - loss: 3413.6903\n",
      "Epoch 23/200\n",
      "100/100 [==============================] - 0s 97us/step - loss: 3399.3051\n",
      "Epoch 24/200\n",
      "100/100 [==============================] - 0s 88us/step - loss: 3385.2021\n",
      "Epoch 25/200\n",
      "100/100 [==============================] - 0s 80us/step - loss: 3370.2688\n",
      "Epoch 26/200\n",
      "100/100 [==============================] - 0s 105us/step - loss: 3355.0694\n",
      "Epoch 27/200\n",
      "100/100 [==============================] - 0s 79us/step - loss: 3339.6942\n",
      "Epoch 28/200\n",
      "100/100 [==============================] - 0s 104us/step - loss: 3323.6181\n",
      "Epoch 29/200\n",
      "100/100 [==============================] - 0s 104us/step - loss: 3306.7597\n",
      "Epoch 30/200\n",
      "100/100 [==============================] - 0s 111us/step - loss: 3290.9052\n",
      "Epoch 31/200\n",
      "100/100 [==============================] - 0s 107us/step - loss: 3273.9366\n",
      "Epoch 32/200\n",
      "100/100 [==============================] - 0s 85us/step - loss: 3256.5302\n",
      "Epoch 33/200\n",
      "100/100 [==============================] - 0s 122us/step - loss: 3238.3912\n",
      "Epoch 34/200\n",
      "100/100 [==============================] - 0s 102us/step - loss: 3221.3453\n",
      "Epoch 35/200\n",
      "100/100 [==============================] - 0s 142us/step - loss: 3203.0404\n",
      "Epoch 36/200\n",
      "100/100 [==============================] - 0s 95us/step - loss: 3184.3485\n",
      "Epoch 37/200\n",
      "100/100 [==============================] - 0s 83us/step - loss: 3165.9913\n",
      "Epoch 38/200\n",
      "100/100 [==============================] - 0s 112us/step - loss: 3146.3923\n",
      "Epoch 39/200\n",
      "100/100 [==============================] - 0s 118us/step - loss: 3127.4347\n",
      "Epoch 40/200\n",
      "100/100 [==============================] - 0s 129us/step - loss: 3108.3030\n",
      "Epoch 41/200\n",
      "100/100 [==============================] - 0s 105us/step - loss: 3087.2287\n",
      "Epoch 42/200\n",
      "100/100 [==============================] - 0s 105us/step - loss: 3065.4122\n",
      "Epoch 43/200\n",
      "100/100 [==============================] - 0s 85us/step - loss: 3044.7532\n",
      "Epoch 44/200\n",
      "100/100 [==============================] - 0s 154us/step - loss: 3022.4107\n",
      "Epoch 45/200\n",
      "100/100 [==============================] - 0s 79us/step - loss: 3000.9494\n",
      "Epoch 46/200\n",
      "100/100 [==============================] - 0s 102us/step - loss: 2976.7772\n",
      "Epoch 47/200\n",
      "100/100 [==============================] - 0s 104us/step - loss: 2955.1737\n",
      "Epoch 48/200\n",
      "100/100 [==============================] - 0s 132us/step - loss: 2932.1588\n",
      "Epoch 49/200\n",
      "100/100 [==============================] - 0s 104us/step - loss: 2909.3543\n",
      "Epoch 50/200\n",
      "100/100 [==============================] - 0s 113us/step - loss: 2885.4558\n",
      "Epoch 51/200\n",
      "100/100 [==============================] - 0s 121us/step - loss: 2861.9095\n",
      "Epoch 52/200\n",
      "100/100 [==============================] - 0s 93us/step - loss: 2836.6838\n",
      "Epoch 53/200\n",
      "100/100 [==============================] - 0s 104us/step - loss: 2811.4858\n",
      "Epoch 54/200\n",
      "100/100 [==============================] - 0s 106us/step - loss: 2786.3401\n",
      "Epoch 55/200\n",
      "100/100 [==============================] - 0s 117us/step - loss: 2759.2956\n",
      "Epoch 56/200\n",
      "100/100 [==============================] - 0s 110us/step - loss: 2733.1592\n",
      "Epoch 57/200\n",
      "100/100 [==============================] - 0s 87us/step - loss: 2707.5311\n",
      "Epoch 58/200\n",
      "100/100 [==============================] - 0s 130us/step - loss: 2678.8335\n",
      "Epoch 59/200\n",
      "100/100 [==============================] - 0s 99us/step - loss: 2652.3447\n",
      "Epoch 60/200\n",
      "100/100 [==============================] - 0s 92us/step - loss: 2623.1540\n",
      "Epoch 61/200\n",
      "100/100 [==============================] - 0s 105us/step - loss: 2594.9523\n",
      "Epoch 62/200\n",
      "100/100 [==============================] - ETA: 0s - loss: 2494.98 - 0s 105us/step - loss: 2566.5609\n",
      "Epoch 63/200\n",
      "100/100 [==============================] - 0s 101us/step - loss: 2539.5240\n",
      "Epoch 64/200\n",
      "100/100 [==============================] - 0s 125us/step - loss: 2510.4839\n",
      "Epoch 65/200\n",
      "100/100 [==============================] - 0s 113us/step - loss: 2481.7321\n",
      "Epoch 66/200\n",
      "100/100 [==============================] - 0s 114us/step - loss: 2452.0906\n",
      "Epoch 67/200\n",
      "100/100 [==============================] - 0s 138us/step - loss: 2422.9167\n",
      "Epoch 68/200\n",
      "100/100 [==============================] - 0s 123us/step - loss: 2393.7452\n",
      "Epoch 69/200\n",
      "100/100 [==============================] - 0s 124us/step - loss: 2363.7979\n",
      "Epoch 70/200\n",
      "100/100 [==============================] - 0s 113us/step - loss: 2333.7501\n",
      "Epoch 71/200\n",
      "100/100 [==============================] - 0s 129us/step - loss: 2303.3336\n",
      "Epoch 72/200\n",
      "100/100 [==============================] - 0s 115us/step - loss: 2271.2170\n",
      "Epoch 73/200\n",
      "100/100 [==============================] - 0s 107us/step - loss: 2237.9380\n",
      "Epoch 74/200\n",
      "100/100 [==============================] - 0s 104us/step - loss: 2204.7726\n",
      "Epoch 75/200\n",
      "100/100 [==============================] - 0s 128us/step - loss: 2171.0968\n",
      "Epoch 76/200\n",
      "100/100 [==============================] - 0s 102us/step - loss: 2137.6558\n",
      "Epoch 77/200\n",
      "100/100 [==============================] - 0s 99us/step - loss: 2107.1351\n",
      "Epoch 78/200\n",
      "100/100 [==============================] - 0s 75us/step - loss: 2073.5028\n",
      "Epoch 79/200\n",
      "100/100 [==============================] - 0s 108us/step - loss: 2041.8815\n",
      "Epoch 80/200\n",
      "100/100 [==============================] - 0s 91us/step - loss: 2008.8012\n",
      "Epoch 81/200\n",
      "100/100 [==============================] - 0s 80us/step - loss: 1977.0892\n",
      "Epoch 82/200\n",
      "100/100 [==============================] - 0s 99us/step - loss: 1942.1550\n",
      "Epoch 83/200\n",
      "100/100 [==============================] - 0s 71us/step - loss: 1907.5752\n",
      "Epoch 84/200\n",
      "100/100 [==============================] - 0s 97us/step - loss: 1871.7926\n",
      "Epoch 85/200\n",
      "100/100 [==============================] - 0s 90us/step - loss: 1837.6402\n",
      "Epoch 86/200\n",
      "100/100 [==============================] - 0s 84us/step - loss: 1802.7936\n",
      "Epoch 87/200\n",
      "100/100 [==============================] - 0s 97us/step - loss: 1768.1201\n",
      "Epoch 88/200\n",
      "100/100 [==============================] - 0s 86us/step - loss: 1735.5190\n",
      "Epoch 89/200\n",
      "100/100 [==============================] - 0s 97us/step - loss: 1700.7370\n",
      "Epoch 90/200\n",
      "100/100 [==============================] - 0s 89us/step - loss: 1668.1980\n",
      "Epoch 91/200\n",
      "100/100 [==============================] - 0s 102us/step - loss: 1633.6680\n",
      "Epoch 92/200\n",
      "100/100 [==============================] - 0s 115us/step - loss: 1599.3370\n",
      "Epoch 93/200\n",
      "100/100 [==============================] - 0s 87us/step - loss: 1565.0954\n",
      "Epoch 94/200\n",
      "100/100 [==============================] - 0s 119us/step - loss: 1531.4253\n",
      "Epoch 95/200\n",
      "100/100 [==============================] - 0s 122us/step - loss: 1499.3071\n",
      "Epoch 96/200\n",
      "100/100 [==============================] - 0s 65us/step - loss: 1464.8888\n",
      "Epoch 97/200\n",
      "100/100 [==============================] - 0s 88us/step - loss: 1432.8758\n",
      "Epoch 98/200\n",
      "100/100 [==============================] - 0s 110us/step - loss: 1401.1164\n",
      "Epoch 99/200\n",
      "100/100 [==============================] - 0s 107us/step - loss: 1368.7084\n",
      "Epoch 100/200\n",
      "100/100 [==============================] - 0s 81us/step - loss: 1335.3767\n",
      "Epoch 101/200\n",
      "100/100 [==============================] - 0s 99us/step - loss: 1302.6541\n",
      "Epoch 102/200\n",
      "100/100 [==============================] - 0s 78us/step - loss: 1271.7887\n",
      "Epoch 103/200\n",
      "100/100 [==============================] - 0s 108us/step - loss: 1239.3057\n",
      "Epoch 104/200\n",
      "100/100 [==============================] - 0s 105us/step - loss: 1208.2740\n",
      "Epoch 105/200\n",
      "100/100 [==============================] - 0s 62us/step - loss: 1176.1284\n",
      "Epoch 106/200\n",
      "100/100 [==============================] - 0s 92us/step - loss: 1145.7618\n",
      "Epoch 107/200\n",
      "100/100 [==============================] - 0s 94us/step - loss: 1116.5407\n",
      "Epoch 108/200\n",
      "100/100 [==============================] - 0s 83us/step - loss: 1086.9452\n",
      "Epoch 109/200\n",
      "100/100 [==============================] - 0s 74us/step - loss: 1059.8267\n",
      "Epoch 110/200\n",
      "100/100 [==============================] - 0s 87us/step - loss: 1030.9367\n",
      "Epoch 111/200\n",
      "100/100 [==============================] - 0s 99us/step - loss: 1002.0323\n",
      "Epoch 112/200\n",
      "100/100 [==============================] - 0s 75us/step - loss: 974.4950\n",
      "Epoch 113/200\n",
      "100/100 [==============================] - 0s 96us/step - loss: 945.2320\n",
      "Epoch 114/200\n",
      "100/100 [==============================] - 0s 90us/step - loss: 917.1602\n",
      "Epoch 115/200\n",
      "100/100 [==============================] - 0s 83us/step - loss: 889.7067\n",
      "Epoch 116/200\n",
      "100/100 [==============================] - 0s 84us/step - loss: 860.7810\n",
      "Epoch 117/200\n",
      "100/100 [==============================] - 0s 72us/step - loss: 832.9858\n",
      "Epoch 118/200\n",
      "100/100 [==============================] - 0s 125us/step - loss: 805.8684\n",
      "Epoch 119/200\n",
      "100/100 [==============================] - 0s 94us/step - loss: 779.7008\n",
      "Epoch 120/200\n",
      "100/100 [==============================] - 0s 85us/step - loss: 751.9199\n",
      "Epoch 121/200\n",
      "100/100 [==============================] - 0s 103us/step - loss: 724.2065\n",
      "Epoch 122/200\n",
      "100/100 [==============================] - 0s 104us/step - loss: 696.4361\n",
      "Epoch 123/200\n",
      "100/100 [==============================] - 0s 101us/step - loss: 670.7258\n",
      "Epoch 124/200\n",
      "100/100 [==============================] - 0s 75us/step - loss: 645.1126\n",
      "Epoch 125/200\n",
      "100/100 [==============================] - 0s 124us/step - loss: 620.3251\n",
      "Epoch 126/200\n",
      "100/100 [==============================] - 0s 62us/step - loss: 594.8235\n",
      "Epoch 127/200\n",
      "100/100 [==============================] - 0s 100us/step - loss: 570.3249\n",
      "Epoch 128/200\n",
      "100/100 [==============================] - 0s 113us/step - loss: 547.2738\n",
      "Epoch 129/200\n",
      "100/100 [==============================] - 0s 86us/step - loss: 525.0290\n",
      "Epoch 130/200\n",
      "100/100 [==============================] - 0s 94us/step - loss: 503.5871\n",
      "Epoch 131/200\n",
      "100/100 [==============================] - 0s 104us/step - loss: 483.6125\n",
      "Epoch 132/200\n",
      "100/100 [==============================] - 0s 80us/step - loss: 464.4948\n",
      "Epoch 133/200\n",
      "100/100 [==============================] - 0s 99us/step - loss: 444.9285\n",
      "Epoch 134/200\n",
      "100/100 [==============================] - 0s 129us/step - loss: 426.1768\n",
      "Epoch 135/200\n",
      "100/100 [==============================] - 0s 76us/step - loss: 407.5077\n",
      "Epoch 136/200\n",
      "100/100 [==============================] - 0s 81us/step - loss: 389.8327\n",
      "Epoch 137/200\n",
      "100/100 [==============================] - 0s 82us/step - loss: 372.7571\n",
      "Epoch 138/200\n",
      "100/100 [==============================] - 0s 84us/step - loss: 355.1879\n",
      "Epoch 139/200\n",
      "100/100 [==============================] - 0s 100us/step - loss: 339.0679\n",
      "Epoch 140/200\n",
      "100/100 [==============================] - 0s 99us/step - loss: 324.0317\n",
      "Epoch 141/200\n",
      "100/100 [==============================] - 0s 105us/step - loss: 310.4109\n",
      "Epoch 142/200\n",
      "100/100 [==============================] - 0s 118us/step - loss: 297.0046\n",
      "Epoch 143/200\n",
      "100/100 [==============================] - 0s 92us/step - loss: 284.3806\n",
      "Epoch 144/200\n",
      "100/100 [==============================] - 0s 144us/step - loss: 271.6172\n",
      "Epoch 145/200\n",
      "100/100 [==============================] - 0s 76us/step - loss: 260.3707\n",
      "Epoch 146/200\n",
      "100/100 [==============================] - 0s 100us/step - loss: 248.5413\n",
      "Epoch 147/200\n",
      "100/100 [==============================] - 0s 91us/step - loss: 236.4055\n",
      "Epoch 148/200\n",
      "100/100 [==============================] - 0s 76us/step - loss: 224.5852\n",
      "Epoch 149/200\n",
      "100/100 [==============================] - 0s 77us/step - loss: 213.6369\n",
      "Epoch 150/200\n",
      "100/100 [==============================] - 0s 114us/step - loss: 202.7438\n",
      "Epoch 151/200\n",
      "100/100 [==============================] - 0s 98us/step - loss: 192.1206\n",
      "Epoch 152/200\n",
      "100/100 [==============================] - 0s 80us/step - loss: 181.9609\n",
      "Epoch 153/200\n",
      "100/100 [==============================] - 0s 96us/step - loss: 172.9238\n",
      "Epoch 154/200\n",
      "100/100 [==============================] - 0s 78us/step - loss: 164.7553\n",
      "Epoch 155/200\n",
      "100/100 [==============================] - 0s 84us/step - loss: 156.5957\n",
      "Epoch 156/200\n",
      "100/100 [==============================] - 0s 85us/step - loss: 149.0327\n",
      "Epoch 157/200\n",
      "100/100 [==============================] - 0s 84us/step - loss: 141.6153\n",
      "Epoch 158/200\n",
      "100/100 [==============================] - 0s 102us/step - loss: 135.0017\n",
      "Epoch 159/200\n",
      "100/100 [==============================] - 0s 94us/step - loss: 128.5262\n",
      "Epoch 160/200\n",
      "100/100 [==============================] - 0s 71us/step - loss: 122.2222\n",
      "Epoch 161/200\n",
      "100/100 [==============================] - 0s 108us/step - loss: 115.7083\n",
      "Epoch 162/200\n",
      "100/100 [==============================] - 0s 123us/step - loss: 109.6607\n",
      "Epoch 163/200\n",
      "100/100 [==============================] - 0s 113us/step - loss: 103.9494\n",
      "Epoch 164/200\n",
      "100/100 [==============================] - 0s 98us/step - loss: 98.3116\n",
      "Epoch 165/200\n",
      "100/100 [==============================] - 0s 111us/step - loss: 92.9867\n",
      "Epoch 166/200\n",
      "100/100 [==============================] - 0s 141us/step - loss: 88.3451\n",
      "Epoch 167/200\n",
      "100/100 [==============================] - 0s 104us/step - loss: 83.6018\n",
      "Epoch 168/200\n",
      "100/100 [==============================] - 0s 90us/step - loss: 79.1872\n",
      "Epoch 169/200\n",
      "100/100 [==============================] - 0s 111us/step - loss: 74.9109\n",
      "Epoch 170/200\n",
      "100/100 [==============================] - 0s 119us/step - loss: 70.8735\n",
      "Epoch 171/200\n",
      "100/100 [==============================] - 0s 83us/step - loss: 67.0997\n",
      "Epoch 172/200\n",
      "100/100 [==============================] - 0s 80us/step - loss: 63.6851\n",
      "Epoch 173/200\n",
      "100/100 [==============================] - 0s 145us/step - loss: 60.1664\n",
      "Epoch 174/200\n",
      "100/100 [==============================] - 0s 96us/step - loss: 57.0760\n",
      "Epoch 175/200\n",
      "100/100 [==============================] - 0s 175us/step - loss: 54.0437\n",
      "Epoch 176/200\n",
      "100/100 [==============================] - 0s 84us/step - loss: 51.2270\n",
      "Epoch 177/200\n",
      "100/100 [==============================] - 0s 92us/step - loss: 48.5718\n",
      "Epoch 178/200\n",
      "100/100 [==============================] - 0s 102us/step - loss: 46.3050\n",
      "Epoch 179/200\n",
      "100/100 [==============================] - 0s 105us/step - loss: 44.1103\n",
      "Epoch 180/200\n",
      "100/100 [==============================] - 0s 100us/step - loss: 42.2291\n",
      "Epoch 181/200\n",
      "100/100 [==============================] - 0s 96us/step - loss: 40.3004\n",
      "Epoch 182/200\n",
      "100/100 [==============================] - 0s 114us/step - loss: 38.5393\n",
      "Epoch 183/200\n",
      "100/100 [==============================] - 0s 101us/step - loss: 36.9125\n",
      "Epoch 184/200\n",
      "100/100 [==============================] - 0s 95us/step - loss: 35.4209\n",
      "Epoch 185/200\n",
      "100/100 [==============================] - 0s 115us/step - loss: 33.9858\n",
      "Epoch 186/200\n",
      "100/100 [==============================] - 0s 106us/step - loss: 32.7535\n",
      "Epoch 187/200\n",
      "100/100 [==============================] - 0s 80us/step - loss: 31.6249\n",
      "Epoch 188/200\n"
     ]
    },
    {
     "name": "stdout",
     "output_type": "stream",
     "text": [
      "100/100 [==============================] - 0s 92us/step - loss: 30.5886\n",
      "Epoch 189/200\n",
      "100/100 [==============================] - 0s 81us/step - loss: 29.6289\n",
      "Epoch 190/200\n",
      "100/100 [==============================] - 0s 94us/step - loss: 28.6914\n",
      "Epoch 191/200\n",
      "100/100 [==============================] - 0s 86us/step - loss: 27.8472\n",
      "Epoch 192/200\n",
      "100/100 [==============================] - 0s 79us/step - loss: 27.0470\n",
      "Epoch 193/200\n",
      "100/100 [==============================] - 0s 95us/step - loss: 26.2280\n",
      "Epoch 194/200\n",
      "100/100 [==============================] - 0s 94us/step - loss: 25.4813\n",
      "Epoch 195/200\n",
      "100/100 [==============================] - 0s 93us/step - loss: 24.7961\n",
      "Epoch 196/200\n",
      "100/100 [==============================] - 0s 112us/step - loss: 24.1965\n",
      "Epoch 197/200\n",
      "100/100 [==============================] - 0s 78us/step - loss: 23.6534\n",
      "Epoch 198/200\n",
      "100/100 [==============================] - 0s 105us/step - loss: 23.1463\n",
      "Epoch 199/200\n",
      "100/100 [==============================] - 0s 111us/step - loss: 22.7350\n",
      "Epoch 200/200\n",
      "100/100 [==============================] - 0s 75us/step - loss: 22.3617\n"
     ]
    },
    {
     "data": {
      "text/plain": [
       "<keras.callbacks.callbacks.History at 0x13cf79f28>"
      ]
     },
     "execution_count": 14,
     "metadata": {},
     "output_type": "execute_result"
    }
   ],
   "source": [
    "# just a regression problem - no split train and test\n",
    "model.fit(x,y,epochs=200)"
   ]
  },
  {
   "cell_type": "markdown",
   "metadata": {},
   "source": [
    "as long as the loss decreases, epochs can be increased"
   ]
  },
  {
   "cell_type": "code",
   "execution_count": 18,
   "metadata": {},
   "outputs": [
    {
     "data": {
      "text/plain": [
       "[<matplotlib.lines.Line2D at 0x140fab668>]"
      ]
     },
     "execution_count": 18,
     "metadata": {},
     "output_type": "execute_result"
    },
    {
     "data": {
      "image/png": "[encoded data removed]",
      "text/plain": [
       "<Figure size 432x288 with 1 Axes>"
      ]
     },
     "metadata": {
      "needs_background": "light"
     },
     "output_type": "display_data"
    }
   ],
   "source": [
    "loss = model.history.history['loss']\n",
    "epochs = range(len(loss))\n",
    "plt.plot(epochs,loss)"
   ]
  },
  {
   "cell_type": "code",
   "execution_count": 19,
   "metadata": {},
   "outputs": [
    {
     "name": "stdout",
     "output_type": "stream",
     "text": [
      "Epoch 1/20\n",
      "100/100 [==============================] - 0s 117us/step - loss: 21.9521\n",
      "Epoch 2/20\n",
      "100/100 [==============================] - 0s 88us/step - loss: 21.5795\n",
      "Epoch 3/20\n",
      "100/100 [==============================] - 0s 94us/step - loss: 21.2511\n",
      "Epoch 4/20\n",
      "100/100 [==============================] - 0s 82us/step - loss: 20.9199\n",
      "Epoch 5/20\n",
      "100/100 [==============================] - 0s 94us/step - loss: 20.6921\n",
      "Epoch 6/20\n",
      "100/100 [==============================] - 0s 86us/step - loss: 20.4478\n",
      "Epoch 7/20\n",
      "100/100 [==============================] - 0s 103us/step - loss: 20.2610\n",
      "Epoch 8/20\n",
      "100/100 [==============================] - 0s 99us/step - loss: 20.0873\n",
      "Epoch 9/20\n",
      "100/100 [==============================] - 0s 89us/step - loss: 19.9355\n",
      "Epoch 10/20\n",
      "100/100 [==============================] - 0s 86us/step - loss: 19.7743\n",
      "Epoch 11/20\n",
      "100/100 [==============================] - 0s 106us/step - loss: 19.6290\n",
      "Epoch 12/20\n",
      "100/100 [==============================] - 0s 111us/step - loss: 19.5149\n",
      "Epoch 13/20\n",
      "100/100 [==============================] - 0s 91us/step - loss: 19.4111\n",
      "Epoch 14/20\n",
      "100/100 [==============================] - 0s 100us/step - loss: 19.2856\n",
      "Epoch 15/20\n",
      "100/100 [==============================] - 0s 114us/step - loss: 19.1644\n",
      "Epoch 16/20\n",
      "100/100 [==============================] - 0s 126us/step - loss: 19.0705\n",
      "Epoch 17/20\n",
      "100/100 [==============================] - 0s 150us/step - loss: 18.9811\n",
      "Epoch 18/20\n",
      "100/100 [==============================] - 0s 117us/step - loss: 18.8744\n",
      "Epoch 19/20\n",
      "100/100 [==============================] - 0s 100us/step - loss: 18.8226\n",
      "Epoch 20/20\n",
      "100/100 [==============================] - 0s 99us/step - loss: 18.7201\n"
     ]
    },
    {
     "data": {
      "text/plain": [
       "<keras.callbacks.callbacks.History at 0x140f12940>"
      ]
     },
     "execution_count": 19,
     "metadata": {},
     "output_type": "execute_result"
    }
   ],
   "source": [
    "# continue to train where the model was left off (epochs = 200)\n",
    "model.fit(x,y,epochs=20)"
   ]
  },
  {
   "cell_type": "code",
   "execution_count": 20,
   "metadata": {},
   "outputs": [
    {
     "data": {
      "text/plain": [
       "[<matplotlib.lines.Line2D at 0x14102c898>]"
      ]
     },
     "execution_count": 20,
     "metadata": {},
     "output_type": "execute_result"
    },
    {
     "data": {
      "image/png": "[encoded data removed]",
      "text/plain": [
       "<Figure size 432x288 with 1 Axes>"
      ]
     },
     "metadata": {
      "needs_background": "light"
     },
     "output_type": "display_data"
    }
   ],
   "source": [
    "loss = model.history.history['loss']\n",
    "epochs = range(len(loss))\n",
    "plt.plot(epochs,loss)"
   ]
  },
  {
   "cell_type": "code",
   "execution_count": 22,
   "metadata": {},
   "outputs": [],
   "source": [
    "# use the model for prediction\n",
    "x_for_prediction = np.linspace(0,50,100)\n",
    "\n",
    "y_pred = model.predict(x_for_prediction)"
   ]
  },
  {
   "cell_type": "code",
   "execution_count": 23,
   "metadata": {},
   "outputs": [
    {
     "data": {
      "text/plain": [
       "[<matplotlib.lines.Line2D at 0x141218da0>]"
      ]
     },
     "execution_count": 23,
     "metadata": {},
     "output_type": "execute_result"
    },
    {
     "data": {
      "image/png": "[encoded data removed]",
      "text/plain": [
       "<Figure size 432x288 with 1 Axes>"
      ]
     },
     "metadata": {
      "needs_background": "light"
     },
     "output_type": "display_data"
    }
   ],
   "source": [
    "plt.plot(x,y,'*')\n",
    "plt.plot(x_for_prediction,y_pred,'r')"
   ]
  },
  {
   "cell_type": "code",
   "execution_count": 25,
   "metadata": {},
   "outputs": [],
   "source": [
    "# measure metrics for the model \n",
    "from sklearn.metrics import mean_squared_error"
   ]
  },
  {
   "cell_type": "code",
   "execution_count": 26,
   "metadata": {},
   "outputs": [
    {
     "data": {
      "text/plain": [
       "18.70045656957424"
      ]
     },
     "execution_count": 26,
     "metadata": {},
     "output_type": "execute_result"
    }
   ],
   "source": [
    "mean_squared_error(y,y_pred)"
   ]
  }
 ],
 "metadata": {
  "kernelspec": {
   "display_name": "Python 3",
   "language": "python",
   "name": "python3"
  },
  "language_info": {
   "codemirror_mode": {
    "name": "ipython",
    "version": 3
   },
   "file_extension": ".py",
   "mimetype": "text/x-python",
   "name": "python",
   "nbconvert_exporter": "python",
   "pygments_lexer": "ipython3",
   "version": "3.6.2"
  },
  "pycharm": {
   "stem_cell": {
    "cell_type": "raw",
    "metadata": {
     "collapsed": false
    },
    "source": []
   }
  }
 },
 "nbformat": 4,
 "nbformat_minor": 1
}
