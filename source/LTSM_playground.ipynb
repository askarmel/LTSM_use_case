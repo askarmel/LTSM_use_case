{
 "cells": [
  {
   "cell_type": "markdown",
   "metadata": {
    "collapsed": true
   },
   "source": [
    "# Sequence models for time series predictions: RNNs\n",
    "\n",
    "The output of the neurone at time t get back to the same neurone at time t+1, and so on \n",
    "A neurone receives input from previous time step as well as input of current time step.\n",
    "A entire layer of neurones will receives multiple input from t-1 same layers (unrolled layer).<br>\n",
    "The Neural Network manages memory cells.<br>\n",
    "Typical use cases: sales prediction, sentiment scoring, etc."
   ]
  },
  {
   "cell_type": "code",
   "execution_count": null,
   "metadata": {},
   "outputs": [],
   "source": []
  }
 ],
 "metadata": {
  "kernelspec": {
   "display_name": "Python 3",
   "language": "python",
   "name": "python3"
  },
  "language_info": {
   "codemirror_mode": {
    "name": "ipython",
    "version": 3
   },
   "file_extension": ".py",
   "mimetype": "text/x-python",
   "name": "python",
   "nbconvert_exporter": "python",
   "pygments_lexer": "ipython3",
   "version": "3.6.2"
  }
 },
 "nbformat": 4,
 "nbformat_minor": 1
}
